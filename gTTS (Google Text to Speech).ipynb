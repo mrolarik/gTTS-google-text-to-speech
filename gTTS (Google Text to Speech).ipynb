{
 "cells": [
  {
   "cell_type": "markdown",
   "metadata": {},
   "source": [
    "# gTTS 1.2.2\n",
    "\n",
    "Create an mp3 file from spoken text via the Google TTS (Text-to-Speech) API  \n",
    "\n",
    "useful link:  \n",
    "https://pypi.python.org/pypi/gTTS  "
   ]
  },
  {
   "cell_type": "markdown",
   "metadata": {},
   "source": [
    "# Install gTTS python module from pip\n",
    "\n",
    "```\n",
    "$ sudo pip install gTTS\n",
    "\n",
    "Collecting gTTS\n",
    "Requirement already satisfied: six in /usr/local/lib/python2.7/dist-packages (from gTTS)\n",
    "Collecting gtts-token (from gTTS)\n",
    "Collecting requests (from gTTS)\n",
    "  Downloading requests-2.18.4-py2.py3-none-any.whl (88kB)\n",
    "    100% |████████████████████████████████| 92kB 929kB/s \n",
    "Collecting certifi>=2017.4.17 (from requests->gTTS)\n",
    "  Downloading certifi-2018.1.18-py2.py3-none-any.whl (151kB)\n",
    "    100% |████████████████████████████████| 153kB 1.5MB/s \n",
    "Collecting chardet<3.1.0,>=3.0.2 (from requests->gTTS)\n",
    "  Downloading chardet-3.0.4-py2.py3-none-any.whl (133kB)\n",
    "    100% |████████████████████████████████| 143kB 3.7MB/s \n",
    "Collecting idna<2.7,>=2.5 (from requests->gTTS)\n",
    "  Downloading idna-2.6-py2.py3-none-any.whl (56kB)\n",
    "    100% |████████████████████████████████| 61kB 3.1MB/s \n",
    "Collecting urllib3<1.23,>=1.21.1 (from requests->gTTS)\n",
    "  Downloading urllib3-1.22-py2.py3-none-any.whl (132kB)\n",
    "    100% |████████████████████████████████| 133kB 4.2MB/s \n",
    "Installing collected packages: certifi, chardet, idna, urllib3, requests, gtts-token, gTTS\n",
    "  Found existing installation: chardet 2.3.0\n",
    "    Uninstalling chardet-2.3.0:\n",
    "      Successfully uninstalled chardet-2.3.0\n",
    "Successfully installed certifi-2018.1.18 chardet-3.0.4 gTTS-1.2.2 gtts-token-1.1.1 idna-2.6 requests-2.18.4 urllib3-1.22\n",
    "```"
   ]
  },
  {
   "cell_type": "markdown",
   "metadata": {},
   "source": [
    "## Command line utility\n",
    "\n",
    "```\n",
    "$ gtts-cli\n",
    "usage: gtts-cli.py [-h] [-f FILE] [-o DESTINATION] [-l LANG] [--slow]\n",
    "                   [--debug]\n",
    "                   [text]\n",
    "gtts-cli.py: error: one of the arguments text -f/--file is required\n",
    "```"
   ]
  },
  {
   "cell_type": "markdown",
   "metadata": {},
   "source": [
    "## help\n",
    "```\n",
    "$ gtts-cli --help\n",
    "usage: gtts-cli.py [-h] [-f FILE] [-o DESTINATION] [-l LANG] [--slow]\n",
    "                   [--debug]\n",
    "                   [text]\n",
    "\n",
    "Creates an mp3 file from spoken text via the Google Text-to-Speech API (1.2.2)\n",
    "\n",
    "positional arguments:\n",
    "  text                  text to speak\n",
    "\n",
    "optional arguments:\n",
    "  -h, --help            show this help message and exit\n",
    "  -f FILE, --file FILE  file to speak\n",
    "  -o DESTINATION, --destination DESTINATION\n",
    "                        destination mp3 file\n",
    "  -l LANG, --lang LANG  ISO 639-1/IETF language tag to speak in:\n",
    "                        Afrikaans: 'af', Albanian: 'sq', Arabic: 'ar', Armenian: 'hy', Bengali: 'bn', Catalan: 'ca', Chinese (Cantonese): 'zh-yue', Chinese (Mandarin/China): 'zh-cn', Chinese (Mandarin/Taiwan): 'zh-tw', Chinese: 'zh', Croatian: 'hr', Czech: 'cs', Danish: 'da', Dutch: 'nl', English (Australia): 'en-au', English (United Kingdom): 'en-uk', English (United States): 'en-us', English: 'en', Esperanto: 'eo', Finnish: 'fi', French: 'fr', German: 'de', Greek: 'el', Hindi: 'hi', Hungarian: 'hu', Icelandic: 'is', Indonesian: 'id', Italian: 'it', Japanese: 'ja', Khmer (Cambodian): 'km', Korean: 'ko', Latin: 'la', Latvian: 'lv', Macedonian: 'mk', Norwegian: 'no', Polish: 'pl', Portuguese: 'pt', Romanian: 'ro', Russian: 'ru', Serbian: 'sr', Sinhala: 'si', Slovak: 'sk', Spanish (Spain): 'es-es', Spanish (United States): 'es-us', Spanish: 'es', Swahili: 'sw', Swedish: 'sv', Tamil: 'ta', Thai: 'th', Turkish: 'tr', Ukrainian: 'uk', Vietnamese: 'vi', Welsh: 'cy'\n",
    "  --slow                slower read speed\n",
    "  --debug\n",
    "```"
   ]
  },
  {
   "cell_type": "markdown",
   "metadata": {},
   "source": [
    "## Example\n",
    "\n",
    "#### Read the string 'Hello World' in English to hello_world.mpg\n",
    "```\n",
    "$ gtts-cli 'Hello World' -l 'en' -o hello_world.mp3\n",
    "```\n",
    "\n",
    "#### Read the string 'Hello World' in English (slow speed) to hello_world.mp3\n",
    "```\n",
    "$ gtts-cli 'Hello World' -l 'en' -o hello_world.mpg --slow\n",
    "```\n",
    "\n",
    "#### Read the string 'Hello World' from stdin in English to hello_world.mp3\n",
    "```\n",
    "$ echo 'Hello World' | gtts-cli -l 'en' -o hello_world.mp3 -\n",
    "```\n",
    "\n",
    "#### Read the contents of file 'hello_world.txt' in English to hello_world.mp3\n",
    "```\n",
    "$ gtts-cli -f hello_world.txt -l 'en' -o hello_world.mp3\n",
    "```"
   ]
  },
  {
   "cell_type": "markdown",
   "metadata": {},
   "source": [
    "## Read the contents of file 'hello_world.txt in Thai to hello_word.mp3\n",
    "\n",
    "```\n",
    "$ gtts-cli -f hello_world.txt -l 'th' -o hello_world.mp3\n",
    "```\n",
    "\n",
    "### contents of 'hello_world.txt\n",
    "```\n",
    "สวัสดีชาวโลก สวัสดีชาวโลก\n",
    "```"
   ]
  }
 ],
 "metadata": {
  "kernelspec": {
   "display_name": "Python 2",
   "language": "python",
   "name": "python2"
  },
  "language_info": {
   "codemirror_mode": {
    "name": "ipython",
    "version": 2
   },
   "file_extension": ".py",
   "mimetype": "text/x-python",
   "name": "python",
   "nbconvert_exporter": "python",
   "pygments_lexer": "ipython2",
   "version": "2.7.12"
  }
 },
 "nbformat": 4,
 "nbformat_minor": 2
}
