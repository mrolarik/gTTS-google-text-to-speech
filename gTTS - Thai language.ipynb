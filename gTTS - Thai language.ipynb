{
 "cells": [
  {
   "cell_type": "markdown",
   "metadata": {},
   "source": [
    "# python program\n",
    "## gTTS module "
   ]
  },
  {
   "cell_type": "code",
   "execution_count": 44,
   "metadata": {},
   "outputs": [],
   "source": [
    "# (1) Import gTTS module\n",
    "\n",
    "from gtts import gTTS\n",
    "\n",
    "# (2) Create an instance - tts : text to speech\n",
    "\n",
    "input_text = 'Hello World'\n",
    "tts = gTTS(text=input_text, lang='en', slow=True)\n",
    "\n",
    "###### _Parameters:_  \n",
    "# * `text` - String - Text to be spoken.  \n",
    "# * `lang` - String - [ISO 639-1 language code](#lang_list) (supported by the Google _Text to Speech_ API) to speak in.  \n",
    "# * `slow` - Boolean - Speak slowly. Default `False` (Note: only two speeds are provided by the API).  \n",
    "\n",
    "# (3) Write to a file\n",
    "tts.save('hello_world.mp3')"
   ]
  },
  {
   "cell_type": "code",
   "execution_count": 36,
   "metadata": {},
   "outputs": [
    {
     "name": "stdout",
     "output_type": "stream",
     "text": [
      "['hello_world.mp3']\n"
     ]
    }
   ],
   "source": [
    "# list mp3 file from directory\n",
    "\n",
    "import glob\n",
    "\n",
    "print(glob.glob(\"*.mp3\"))"
   ]
  },
  {
   "cell_type": "markdown",
   "metadata": {},
   "source": [
    "## gTTS with Thai language"
   ]
  },
  {
   "cell_type": "code",
   "execution_count": 96,
   "metadata": {},
   "outputs": [
    {
     "name": "stdout",
     "output_type": "stream",
     "text": [
      "Message from text file:\n",
      "สวัสดีชาวโลก\n"
     ]
    }
   ],
   "source": [
    "# read text file\n",
    "f = open('hello_world.txt','r')\n",
    "message = f.read()\n",
    "\n",
    "print(\"Message from text file:\")\n",
    "print(message)\n",
    "f.close()\n",
    "\n",
    "message = message.decode('utf-8')\n",
    "\n",
    "tts = gTTS(text=message, lang='th', slow=False)\n",
    "tts.save('Thai_hello_world.mp3')"
   ]
  },
  {
   "cell_type": "markdown",
   "metadata": {},
   "source": [
    "# Text to Speech - TTS\n",
    "\n",
    "## Install for necessary python libraries\n",
    "\n",
    "```\n",
    "$ sudo pip install SpeechRecognition\n",
    "$ sudo pip install bs4\n",
    "$ sudo pip install pygame\n",
    "```"
   ]
  },
  {
   "cell_type": "code",
   "execution_count": 97,
   "metadata": {},
   "outputs": [],
   "source": [
    "from pygame import mixer\n",
    "import time, os\n",
    "\n",
    "def speak(text, lang):\n",
    "    file = gTTS(text = text, lang = lang)\n",
    "    filename = '/tmp/temp.mp3'\n",
    "    file.save(filename)\n",
    "    mixer.init()\n",
    "    \n",
    "    mixer.music.load(filename)\n",
    "    mixer.music.play()\n",
    "\n",
    "    time.sleep(10)\n",
    "    os.remove(filename)"
   ]
  },
  {
   "cell_type": "code",
   "execution_count": 99,
   "metadata": {},
   "outputs": [
    {
     "name": "stdout",
     "output_type": "stream",
     "text": [
      "Message from text file:\n",
      "สวัสดีชาวโลก\n"
     ]
    }
   ],
   "source": [
    "# Text to Speech\n",
    "# Read message from text file and then speech\n",
    "\n",
    "# read text file\n",
    "f = open('hello_world.txt','r')\n",
    "message = f.read()\n",
    "\n",
    "print(\"Message from text file:\")\n",
    "print(message)\n",
    "f.close()\n",
    "\n",
    "lan = 'THAI'\n",
    "if(lan == 'THAI'):\n",
    "    message = message.decode('utf-8')\n",
    "    lang = 'th'\n",
    "    speak(message, lang)\n",
    "elif(lan == 'EN'):\n",
    "    lang = 'en'\n",
    "    speak(message, lang)"
   ]
  }
 ],
 "metadata": {
  "kernelspec": {
   "display_name": "Python 2",
   "language": "python",
   "name": "python2"
  },
  "language_info": {
   "codemirror_mode": {
    "name": "ipython",
    "version": 2
   },
   "file_extension": ".py",
   "mimetype": "text/x-python",
   "name": "python",
   "nbconvert_exporter": "python",
   "pygments_lexer": "ipython2",
   "version": "2.7.12"
  }
 },
 "nbformat": 4,
 "nbformat_minor": 2
}
